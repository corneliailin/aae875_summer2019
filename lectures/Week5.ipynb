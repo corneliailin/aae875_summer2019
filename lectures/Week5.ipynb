{
 "cells": [
  {
   "cell_type": "markdown",
   "metadata": {
    "slideshow": {
     "slide_type": "slide"
    }
   },
   "source": [
    "# AAE 875 - Fundamentals of OOP and Data Analytics\n",
    "# Week 5 - Summer 2019\n",
    "\n",
    "<br>\n",
    "<br>\n",
    "<br>\n",
    "\n",
    "My goal today is to give you a tour of the key Python packages used for **data visualization, descriptive statistics and regression analysis**. I am going to assume that you have already read the corresponding chapters in zyBooks.\n",
    "\n",
    "The model we are going to run today will explore the cross-sectional infidelity data collected by the magazine Psychology Today in 1969. The economist Ray C. Fair used it the to develop \"A Theory of Extramarital Affairs\" (Fair, 1978).\n",
    "\n",
    "The data consists of 601 observations on 9 variables as follows:\n",
    "\n",
    "    Number of observations: 601\n",
    "    Number of variables: 9\n",
    "    Variable name definitions:\n",
    "\n",
    "\n",
    "        sex             : Respondent gender: male or female\n",
    "        age             : Respondent age\n",
    "        yrs_married     : Number of years married\n",
    "        children        : yes or no\n",
    "        religious       : How relgious, 1 = not, 2 = mildly, 3 = fairly,\n",
    "                        4 = strongly\n",
    "        educ            : Level of education, 9 = grade school, 12 = high\n",
    "                        school, 14 = some college, 16 = college graduate,\n",
    "                        17 = some graduate school, 20 = advanced degree\n",
    "        occupation      : 1 = student, 2 = farming, agriculture; semi-skilled,\n",
    "                        or unskilled worker; 3 = white-colloar; 4 = teacher\n",
    "                        counselor social worker, nurse; artist, writers;\n",
    "                        technician, skilled worker, 5 = managerial,\n",
    "                        administrative, business, 6 = professional with\n",
    "                        advanced degree\n",
    "       rate_marriage    : How rate marriage, 1 = very poor, 2 = poor, 3 = fair,\n",
    "                        4 = good, 5 = very good\n",
    "       nb_of_affairs    : number of extramarital affairs\n",
    "\n",
    "    \n",
    "    See the original paper for more details. \n",
    "\n",
    "\n",
    "We will use this data to answer the following questions:\n",
    "\n",
    "**Data Visualization and Descriptive Statistics**\n",
    "\n",
    "[1] Of all the people sampled, how many had affairs? How many women had affairs? How many men had affairs?\n",
    "\n",
    "[2] Plot the age distribution of people who had identified as having at least one affair by sex.\n",
    "\n",
    "[3] Plot the yrs_married distribution of people who had identified as having at least one affair by sex.\n",
    "\n",
    "[4] Of all the people that had affairs, how many fall into each education category?\n",
    "\n",
    "[5] Of all the people that had affairs, how many had children?\n",
    "\n",
    "[5] For each religious rating, what was the average number of affairs?\n",
    "\n",
    "[6] For each marriage satisfation rating, what was the average number of affairs?\n",
    "\n",
    "[7] For each occupation category, what was the average number of affairs?\n",
    "\n",
    "**Regression Analysis**\n",
    "\n",
    "[1] Predict the probability of having an affair using the tools available in Python for discrete choice models (hint: statsmodels.formula.api). First fit a Logit model. Then fit a Tobit model. Can you conclude that the \"correct\" model is likely the Tobit model? Explain."
   ]
  },
  {
   "cell_type": "markdown",
   "metadata": {},
   "source": [
    "### Import packages"
   ]
  },
  {
   "cell_type": "code",
   "execution_count": null,
   "metadata": {},
   "outputs": [],
   "source": []
  },
  {
   "cell_type": "markdown",
   "metadata": {},
   "source": [
    "### Load affairs.csv data"
   ]
  },
  {
   "cell_type": "code",
   "execution_count": null,
   "metadata": {},
   "outputs": [],
   "source": []
  },
  {
   "cell_type": "markdown",
   "metadata": {},
   "source": [
    "### Print the number of rows and the number of columns"
   ]
  },
  {
   "cell_type": "code",
   "execution_count": null,
   "metadata": {},
   "outputs": [],
   "source": []
  },
  {
   "cell_type": "markdown",
   "metadata": {},
   "source": [
    "### Print the column labels"
   ]
  },
  {
   "cell_type": "code",
   "execution_count": null,
   "metadata": {},
   "outputs": [],
   "source": []
  },
  {
   "cell_type": "markdown",
   "metadata": {},
   "source": [
    "### Print the data type of each column"
   ]
  },
  {
   "cell_type": "code",
   "execution_count": null,
   "metadata": {},
   "outputs": [],
   "source": []
  },
  {
   "cell_type": "markdown",
   "metadata": {},
   "source": [
    "### Print the first 10 rows "
   ]
  },
  {
   "cell_type": "code",
   "execution_count": null,
   "metadata": {},
   "outputs": [],
   "source": []
  },
  {
   "cell_type": "markdown",
   "metadata": {},
   "source": [
    "### Rename the x variable to resp_id"
   ]
  },
  {
   "cell_type": "code",
   "execution_count": null,
   "metadata": {},
   "outputs": [],
   "source": []
  },
  {
   "cell_type": "markdown",
   "metadata": {},
   "source": [
    "### Are there any missing values in the data?"
   ]
  },
  {
   "cell_type": "code",
   "execution_count": null,
   "metadata": {},
   "outputs": [],
   "source": []
  },
  {
   "cell_type": "markdown",
   "metadata": {},
   "source": [
    "### Print rows with missing values"
   ]
  },
  {
   "cell_type": "code",
   "execution_count": null,
   "metadata": {},
   "outputs": [],
   "source": []
  },
  {
   "cell_type": "markdown",
   "metadata": {},
   "source": [
    "### Remove rows with missing values"
   ]
  },
  {
   "cell_type": "code",
   "execution_count": null,
   "metadata": {},
   "outputs": [],
   "source": []
  },
  {
   "cell_type": "markdown",
   "metadata": {},
   "source": [
    "### What is the number of rows and columns now?"
   ]
  },
  {
   "cell_type": "code",
   "execution_count": null,
   "metadata": {},
   "outputs": [],
   "source": []
  },
  {
   "cell_type": "markdown",
   "metadata": {},
   "source": [
    "### Of all the people sampled, how many had affairs? How many women had affairs? How many men had affairs?"
   ]
  },
  {
   "cell_type": "code",
   "execution_count": null,
   "metadata": {},
   "outputs": [],
   "source": []
  },
  {
   "cell_type": "markdown",
   "metadata": {},
   "source": [
    "### Plot the age distribution of people who had identified as having at least one affair by sex."
   ]
  },
  {
   "cell_type": "code",
   "execution_count": null,
   "metadata": {},
   "outputs": [],
   "source": []
  },
  {
   "cell_type": "markdown",
   "metadata": {},
   "source": [
    "### Plot the yrs_married distribution of people who had identified as having at least one affair by sex."
   ]
  },
  {
   "cell_type": "code",
   "execution_count": null,
   "metadata": {},
   "outputs": [],
   "source": []
  },
  {
   "cell_type": "markdown",
   "metadata": {},
   "source": [
    "### Of all the people that had affairs, how many fall into each education category?"
   ]
  },
  {
   "cell_type": "code",
   "execution_count": null,
   "metadata": {},
   "outputs": [],
   "source": []
  },
  {
   "cell_type": "markdown",
   "metadata": {},
   "source": [
    "### Of all the people that had affairs, how many had children?"
   ]
  },
  {
   "cell_type": "code",
   "execution_count": null,
   "metadata": {},
   "outputs": [],
   "source": []
  },
  {
   "cell_type": "markdown",
   "metadata": {},
   "source": [
    "### For each religious rating, what was the average number of affairs?"
   ]
  },
  {
   "cell_type": "code",
   "execution_count": null,
   "metadata": {},
   "outputs": [],
   "source": []
  },
  {
   "cell_type": "markdown",
   "metadata": {},
   "source": [
    "### For each marriage satisfation rating, what was the average number of affairs?"
   ]
  },
  {
   "cell_type": "code",
   "execution_count": null,
   "metadata": {},
   "outputs": [],
   "source": []
  },
  {
   "cell_type": "markdown",
   "metadata": {},
   "source": [
    "### For each occupation category, what was the average number of affairs?"
   ]
  },
  {
   "cell_type": "code",
   "execution_count": null,
   "metadata": {},
   "outputs": [],
   "source": []
  },
  {
   "cell_type": "markdown",
   "metadata": {},
   "source": [
    "### Predict the probability of having an affair using the tools available in Python for discrete choice models"
   ]
  },
  {
   "cell_type": "markdown",
   "metadata": {},
   "source": [
    "#### Fit a Logit model"
   ]
  },
  {
   "cell_type": "code",
   "execution_count": null,
   "metadata": {},
   "outputs": [],
   "source": []
  },
  {
   "cell_type": "markdown",
   "metadata": {},
   "source": [
    "#### Fit a Tobit model"
   ]
  },
  {
   "cell_type": "code",
   "execution_count": null,
   "metadata": {},
   "outputs": [],
   "source": []
  },
  {
   "cell_type": "markdown",
   "metadata": {},
   "source": [
    "#### Can you conclude that the \"correct\" model is likely the Tobit model? Explain."
   ]
  },
  {
   "cell_type": "code",
   "execution_count": null,
   "metadata": {},
   "outputs": [],
   "source": []
  }
 ],
 "metadata": {
  "kernelspec": {
   "display_name": "Python 3",
   "language": "python",
   "name": "python3"
  },
  "language_info": {
   "codemirror_mode": {
    "name": "ipython",
    "version": 3
   },
   "file_extension": ".py",
   "mimetype": "text/x-python",
   "name": "python",
   "nbconvert_exporter": "python",
   "pygments_lexer": "ipython3",
   "version": "3.7.3"
  }
 },
 "nbformat": 4,
 "nbformat_minor": 2
}
