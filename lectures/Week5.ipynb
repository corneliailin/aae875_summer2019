{
 "cells": [
  {
   "cell_type": "markdown",
   "metadata": {
    "slideshow": {
     "slide_type": "slide"
    }
   },
   "source": [
    "# AAE 875 - Fundamentals of OOP and Data Analytics\n",
    "# Week 5 - Summer 2019\n",
    "\n",
    "<br>\n",
    "<br>\n",
    "<br>\n",
    "\n",
    "My goal today is to give you a tour of the key Python packages used for **data visualization, descriptive statistics and regression analysis**. I am going to assume that you have already read the corresponding chapters in zyBooks.\n",
    "\n",
    "The model we are going to run today will explore the cross-sectional infidelity data collected by the magazine Psychology Today in 1969. The economist Ray C. Fair used it the to develop \"A Theory of Extramarital Affairs\" (Fair, 1978).\n",
    "\n",
    "The data consists of 601 observations on 9 variables as follows. Please see the original paper for more details. Note that I slightly altered the original data for the purposes of this class:\n",
    "\n",
    "    Number of observations: 601\n",
    "    Number of variables: 9\n",
    "    Variable name definitions:\n",
    "\n",
    "\n",
    "        sex             : Respondent gender: male or female\n",
    "        age             : Respondent age\n",
    "        yrs_married     : Number of years married\n",
    "        children        : yes or no\n",
    "        religious       : How relgious, 1 = not, 2 = mildly, 3 = fairly,\n",
    "                        4 = strongly\n",
    "        educ            : Level of education, 9 = grade school, 12 = high\n",
    "                        school, 14 = some college, 16 = college graduate,\n",
    "                        17 = some graduate school, 20 = advanced degree\n",
    "        occupation      : 1 = student, 2 = farming, agriculture; semi-skilled,\n",
    "                        or unskilled worker; 3 = white-colloar; 4 = teacher\n",
    "                        counselor social worker, nurse; artist, writers;\n",
    "                        technician, skilled worker, 5 = managerial,\n",
    "                        administrative, business, 6 = professional with\n",
    "                        advanced degree\n",
    "       rate_marriage    : How rate marriage, 1 = very poor, 2 = poor, 3 = fair,\n",
    "                        4 = good, 5 = very good\n",
    "       nb_of_affairs    : number of extramarital affairs\n",
    "\n",
    "    \n",
    "    See the original paper for more details. \n",
    "\n",
    "<br>\n",
    "\n",
    "Let us first inspect/clean the data and then use the clean version to answer the following questions:\n",
    "\n",
    "**Data Visualization and Descriptive Statistics** <br>\n",
    "[1] Of all the people sampled, how many had affairs? How many women had affairs? How many men had affairs?\n",
    "\n",
    "[2] Plot the age distribution of people who had identified as having at least one affair by sex.\n",
    "\n",
    "[3] Plot the yrs_married distribution of people who had identified as having at least one affair by sex.\n",
    "\n",
    "[4] Of all the people that had affairs, how many fall into each education category?\n",
    "\n",
    "[5] Of all the people that had affairs, how many had children?\n",
    "\n",
    "[5] For each religious rating, what was the average number of affairs?\n",
    "\n",
    "\n",
    "**Regression Analysis** <br>\n",
    "[1] Predict the probability of having an affair using the tools available in Python for discrete choice models (hint: statsmodels.formula.api). First fit a Logit model. Then fit a Tobit model. Can you conclude that the \"correct\" model is likely the Tobit model? Explain."
   ]
  },
  {
   "cell_type": "markdown",
   "metadata": {},
   "source": [
    "## `Step 1: Import packages`\n",
    "Good practice is to import all packages/modules at the top of your script."
   ]
  },
  {
   "cell_type": "code",
   "execution_count": 1,
   "metadata": {},
   "outputs": [],
   "source": [
    "import csv\n",
    "import seaborn as sns\n",
    "import matplotlib.pyplot as plt\n",
    "import pandas as pd\n",
    "%matplotlib inline  "
   ]
  },
  {
   "cell_type": "markdown",
   "metadata": {},
   "source": [
    "## `Step 2: Define functions`"
   ]
  },
  {
   "cell_type": "markdown",
   "metadata": {},
   "source": [
    "Create function to get only respondents that had affairs"
   ]
  },
  {
   "cell_type": "code",
   "execution_count": 2,
   "metadata": {},
   "outputs": [],
   "source": [
    "def had_affair_def(data):\n",
    "    # A function that selects only respondents that had affairs\n",
    "    #@param: data is a list with all respondents\n",
    "    #@return: list with respondents that had affairs\n",
    "    \n",
    "    had_affair = []  \n",
    "    data_index = data[0].index(\"nb_of_affairs\")\n",
    "\n",
    "    for row in data:\n",
    "        if row[data_index] == 0.0 or row[data_index] == \"0\":\n",
    "            continue\n",
    "        else:\n",
    "            had_affair.append(row)\n",
    "            \n",
    "    return had_affair"
   ]
  },
  {
   "cell_type": "code",
   "execution_count": 3,
   "metadata": {},
   "outputs": [],
   "source": [
    "def had_affair_m_def(data):\n",
    "    # A function that selects only male respondents that had affairs\n",
    "    #@param: data is a list with respondents that had affairs\n",
    "    #@return: list with male respondents that had affairs\n",
    "    \n",
    "    had_affair_m = []\n",
    "    data_index = data[0].index(\"sex\")\n",
    "    \n",
    "    for row in data:\n",
    "        if row[data_index] == \"male\":\n",
    "            had_affair_m.append(row)\n",
    "            \n",
    "    return had_affair_m        "
   ]
  },
  {
   "cell_type": "code",
   "execution_count": 4,
   "metadata": {},
   "outputs": [],
   "source": [
    "def had_affair_f_def(data):\n",
    "    # A function that selects only female respondents that had affairs\n",
    "    #@param: data is a list with respondents that had affairs\n",
    "    #@return: list with female respondents that had affairs\n",
    "    \n",
    "    had_affair_f = []\n",
    "    data_index = data[0].index(\"sex\")\n",
    "    \n",
    "    for row in data:\n",
    "        if row[data_index] == \"female\":\n",
    "            had_affair_f.append(row)\n",
    "            \n",
    "    return had_affair_f  "
   ]
  },
  {
   "cell_type": "markdown",
   "metadata": {},
   "source": [
    "## `Step 3: Data cleaning`"
   ]
  },
  {
   "cell_type": "markdown",
   "metadata": {},
   "source": [
    "### Load data\n",
    "I decided to work with nested lists. The built-in csv package works just fine for this task. I encourage you to do the same if you want to develop your coding skillls. You can also use a third-party library such as Pandas (Q: what will the data structure be in this case?)."
   ]
  },
  {
   "cell_type": "code",
   "execution_count": 5,
   "metadata": {},
   "outputs": [],
   "source": [
    "# open the file\n",
    "csvfile = open(\"affairs.csv\", \"r\", newline = \"\")\n",
    "# read the file\n",
    "affairs = list(csv.reader(csvfile, delimiter = \",\"))"
   ]
  },
  {
   "cell_type": "markdown",
   "metadata": {},
   "source": [
    "### Print columns names and the first 5 rows of data\n",
    "Do not attempt to run a regression model before insepecting/cleaning your data. Data is messy most of the time! Fix issues (e.g. missing values) before you think about an econometric model. <br>\n",
    "\n",
    "Hint: use print() statements from place to place to explain what you are doing or what is the output of specific blocks of code."
   ]
  },
  {
   "cell_type": "code",
   "execution_count": 6,
   "metadata": {
    "scrolled": true
   },
   "outputs": [
    {
     "name": "stdout",
     "output_type": "stream",
     "text": [
      "The column names are:\n",
      " ['x', 'sex', 'age', 'yrs_married', 'children', 'religious', 'education', 'occupation', 'rate_marriage', 'nb_of_affairs'] \n",
      "\n",
      "The first 5 rows of data are:\n",
      "[ na na 37 10 no 3 na 7 4 0 ]\n",
      "[ 2 female 27 4 no 4 14 6 4 0 ]\n",
      "[ 3 female 32 15 yes 1 12 1 4 0 ]\n",
      "[ na na 57 15 na 5 na 6 na na ]\n",
      "[ 5 male 22 0.75 no 2 17 6 3 0 ]\n"
     ]
    }
   ],
   "source": [
    "# print the column names\n",
    "print(\"The column names are:\\n\", affairs[0], \"\\n\")\n",
    "\n",
    "# print the first 5 rows of data\n",
    "print(\"The first 5 rows of data are:\")\n",
    "for row in affairs[1:5+1]:\n",
    "    print(\"[\", end = \" \")\n",
    "    for cell in row:\n",
    "        print(cell, end = \" \")\n",
    "    print(\"]\")    "
   ]
  },
  {
   "cell_type": "markdown",
   "metadata": {},
   "source": [
    "### Get column indexes (will use them a lot)"
   ]
  },
  {
   "cell_type": "code",
   "execution_count": 7,
   "metadata": {},
   "outputs": [],
   "source": [
    "index_sex = affairs[0].index(\"sex\")\n",
    "index_age = affairs[0].index(\"age\")\n",
    "index_yrs_married = affairs[0].index(\"yrs_married\")\n",
    "index_children = affairs[0].index(\"children\")\n",
    "index_religious = affairs[0].index(\"religious\")\n",
    "index_occupation = affairs[0].index(\"occupation\")\n",
    "index_educ = affairs[0].index(\"education\")\n",
    "index_marriage = affairs[0].index(\"rate_marriage\")\n",
    "index_nb_affairs = affairs[0].index(\"nb_of_affairs\")"
   ]
  },
  {
   "cell_type": "markdown",
   "metadata": {},
   "source": [
    "### Print the number of rows and the number of columns\n",
    "The \"quality\" of your regression estimates depend on the answer to this question."
   ]
  },
  {
   "cell_type": "code",
   "execution_count": 8,
   "metadata": {},
   "outputs": [
    {
     "name": "stdout",
     "output_type": "stream",
     "text": [
      "The affairs data has 602 rows and 10 columns.\n"
     ]
    }
   ],
   "source": [
    "print(\"The affairs data has\", len(affairs), \"rows and\", len(affairs[0]),\"columns.\")"
   ]
  },
  {
   "cell_type": "markdown",
   "metadata": {},
   "source": [
    "### Print the data type of each column\n",
    "Hint: do not run a regression model if you don't understand what data type each column represents... why? it really matters for results interpretation."
   ]
  },
  {
   "cell_type": "code",
   "execution_count": 9,
   "metadata": {},
   "outputs": [
    {
     "name": "stdout",
     "output_type": "stream",
     "text": [
      "<class 'str'>\n",
      "<class 'str'>\n",
      "<class 'str'>\n",
      "<class 'str'>\n",
      "<class 'str'>\n",
      "<class 'str'>\n",
      "<class 'str'>\n",
      "<class 'str'>\n",
      "<class 'str'>\n",
      "<class 'str'>\n",
      "Important: the csv.reader() method returns a list of strings!\n"
     ]
    }
   ],
   "source": [
    "iter = 1 #skips the column names\n",
    "for row_index, row in enumerate(affairs):\n",
    "    if row_index == 1:\n",
    "        for cell in row:\n",
    "            print(type(cell))\n",
    "print(\"Important: the csv.reader() method returns a list of strings!\")                  "
   ]
  },
  {
   "cell_type": "markdown",
   "metadata": {},
   "source": [
    "### Rename the x variable to resp_id\n",
    "Variable names should be easy to understand. One week from now you won't remember what this \"x\" stands for."
   ]
  },
  {
   "cell_type": "code",
   "execution_count": 10,
   "metadata": {
    "scrolled": true
   },
   "outputs": [
    {
     "name": "stdout",
     "output_type": "stream",
     "text": [
      "The variable \"x\" has been renamed to resp_id."
     ]
    }
   ],
   "source": [
    "try:\n",
    "    index_of_x = affairs[0].index(\"x\")\n",
    "    affairs[0][index_of_x] = \"resp_id\"\n",
    "    print(\"The variable \\\"x\\\" has been renamed to\", affairs[0][index_of_x], end = \".\")\n",
    "except ValueError:\n",
    "    print(\"Variable \\\"x\\\" has already been renamed to resp_id.\")   "
   ]
  },
  {
   "cell_type": "markdown",
   "metadata": {},
   "source": [
    "### Are there any missing values (na's) in the data?\n",
    "in this data missing values are marked with \"na\" but missing values can take different forms as well (e.g. blank cell, period (.), Null etc)."
   ]
  },
  {
   "cell_type": "code",
   "execution_count": 11,
   "metadata": {},
   "outputs": [
    {
     "name": "stdout",
     "output_type": "stream",
     "text": [
      "Missing value in cell.\n"
     ]
    }
   ],
   "source": [
    "try:\n",
    "    for row_index, row in enumerate(affairs):\n",
    "        if row_index == 0: #skip row with column names\n",
    "            continue\n",
    "        for cell in row:\n",
    "            if cell == \"na\":\n",
    "                raise ValueError(\"Missing value in cell.\")\n",
    "except ValueError as excpt:\n",
    "    print(excpt)"
   ]
  },
  {
   "cell_type": "markdown",
   "metadata": {},
   "source": [
    "### Print rows with missing values (na's)\n",
    "This step helps you inspect what is actually missing from each row. How critical is the missing information?"
   ]
  },
  {
   "cell_type": "code",
   "execution_count": 12,
   "metadata": {},
   "outputs": [
    {
     "name": "stdout",
     "output_type": "stream",
     "text": [
      "Printing rows with missing values:\n",
      "['na', 'na', '37', '10', 'no', '3', 'na', '7', '4', '0']\n",
      "['na', 'na', '57', '15', 'na', '5', 'na', '6', 'na', 'na']\n",
      "\n",
      "Row indexes with missing values are:\n",
      " [1, 4]\n"
     ]
    }
   ],
   "source": [
    "row_index_tbr = []  #tbr stands for to be removed\n",
    "print(\"Printing rows with missing values:\")\n",
    "for row_index, row in enumerate(affairs):\n",
    "    if row_index == 0: #skip row with column names\n",
    "        continue\n",
    "    for cell_index, cell in enumerate(row):\n",
    "        if cell == \"na\":\n",
    "            print(row)\n",
    "            row_index_tbr.append(row_index)\n",
    "            break   \n",
    "            \n",
    "print(\"\\nRow indexes with missing values are:\\n\", row_index_tbr)"
   ]
  },
  {
   "cell_type": "markdown",
   "metadata": {},
   "source": [
    "### Remove rows with missing values (na's)\n",
    "You decide what you do with missing values. If you have lots of data removing a couple of rows won't be an issue; otherwise you need to think twice what to do with missing values (e.g. use an imputation method).\n",
    "\n",
    "For this data I decided to drop the two observations with na's."
   ]
  },
  {
   "cell_type": "code",
   "execution_count": 13,
   "metadata": {},
   "outputs": [
    {
     "name": "stdout",
     "output_type": "stream",
     "text": [
      "1 row(s) less\n",
      "2 row(s) less\n",
      "\n",
      "The first 5 rows of data are:\n",
      "['2', 'female', '27', '4', 'no', '4', '14', '6', '4', '0']\n",
      "['3', 'female', '32', '15', 'yes', '1', '12', '1', '4', '0']\n",
      "['5', 'male', '22', '0.75', 'no', '2', '17', '6', '3', '0']\n",
      "['6', 'female', '32', '1.5', 'no', '2', '17', '5', '5', '0']\n",
      "['7', 'female', '22', '0.75', 'no', '2', '12', '1', '3', '0']\n"
     ]
    }
   ],
   "source": [
    "temp_affairs = [] # empty list. I will create a new nested list equal with affairs but rows to be removed\n",
    "n = 1\n",
    "\n",
    "for row_index, row in enumerate(affairs):\n",
    "    if row_index in row_index_tbr: #skip rows to be removed (tbr)\n",
    "        print(n,\"row(s) less\")\n",
    "        n += 1 # count number of rows skipped\n",
    "        continue\n",
    "    temp_affairs.append(row)\n",
    "    \n",
    "# just to check everything looks OK print the first 5 rows of data \n",
    "# hint we already know that rows 1 an 4 had missing values\n",
    "print(\"\\nThe first 5 rows of data are:\")\n",
    "for row in range(1,6):\n",
    "    print(temp_affairs[row])   "
   ]
  },
  {
   "cell_type": "markdown",
   "metadata": {},
   "source": [
    "### Keep only one reader (data) object\n",
    "Given that the loop above works as desired we can now overwrite the affairs data."
   ]
  },
  {
   "cell_type": "code",
   "execution_count": 14,
   "metadata": {},
   "outputs": [],
   "source": [
    "affairs = temp_affairs\n",
    "del temp_affairs"
   ]
  },
  {
   "cell_type": "markdown",
   "metadata": {},
   "source": [
    "### What is the number of rows and columns now?\n",
    "\n",
    "Final check that data cleaning worked as desired."
   ]
  },
  {
   "cell_type": "code",
   "execution_count": 15,
   "metadata": {},
   "outputs": [
    {
     "name": "stdout",
     "output_type": "stream",
     "text": [
      "The affairs data has 600 rows and 10 columns.\n"
     ]
    }
   ],
   "source": [
    "print(\"The affairs data has\", len(affairs), \"rows and\", len(affairs[0]),\"columns.\")"
   ]
  },
  {
   "cell_type": "markdown",
   "metadata": {},
   "source": [
    "### Change column data types\n",
    "As you can immagine doing data visuzalization, descriptive statistics and regression analysis with string only data types is not really a good idea. Let's change the types of our columns as follows:\n",
    "* type([resp_id, age, yrs_married, religious, education, occupation, rate_marriage, nb_of_affairs]) = int\n",
    "* type([sex, children]) = string (Note: nothing to change here; right now all the elements in affairs are strings)\n"
   ]
  },
  {
   "cell_type": "code",
   "execution_count": 16,
   "metadata": {},
   "outputs": [
    {
     "name": "stdout",
     "output_type": "stream",
     "text": [
      "Index of variable \"sex\" in column names is 1.\n",
      "Index of variable \"children\" in column names is 4.\n",
      "<class 'float'>\n",
      "<class 'str'>\n",
      "<class 'float'>\n",
      "<class 'float'>\n",
      "<class 'str'>\n",
      "<class 'float'>\n",
      "<class 'float'>\n",
      "<class 'float'>\n",
      "<class 'float'>\n",
      "<class 'float'>\n"
     ]
    }
   ],
   "source": [
    "# let's firt find the indexes of the columns that are strings\n",
    "print(\"Index of variable \\\"sex\\\" in column names is\", index_sex, end = \".\\n\")\n",
    "print(\"Index of variable \\\"children\\\" in column names is\", index_children, end = \".\\n\")\n",
    "\n",
    "\n",
    "# change the type of all other columns to float\n",
    "for row_index, row in enumerate(affairs):\n",
    "    #print(row_index)\n",
    "    if row_index == 0:\n",
    "        continue\n",
    "    if row_index == 38: # for some reason this line of data cannot be trnsformed to integer\n",
    "        continue\n",
    "    for cell_index, cell in enumerate(row):\n",
    "        if cell_index == index_sex or cell_index == index_children:\n",
    "            continue\n",
    "        else:\n",
    "            affairs[row_index][cell_index] = float(cell)\n",
    "            \n",
    "# check that execution worked as planed (print types of the first row of data)\n",
    "for row_index, row in enumerate(affairs):\n",
    "    if row_index == 1:\n",
    "        for cell in row:\n",
    "            print(type(cell))"
   ]
  },
  {
   "cell_type": "markdown",
   "metadata": {},
   "source": [
    "### Print the number of rows and columns in the data - yes, again\n",
    "Note: I eliminated one more observation. For some reason the data type transformation got stuck at line 38? can you figure out why? "
   ]
  },
  {
   "cell_type": "code",
   "execution_count": 17,
   "metadata": {},
   "outputs": [
    {
     "name": "stdout",
     "output_type": "stream",
     "text": [
      "The affairs data has 600 rows and 10 columns.\n"
     ]
    }
   ],
   "source": [
    "print(\"The affairs data has\", len(affairs), \"rows and\", len(affairs[0]),\"columns.\")"
   ]
  },
  {
   "cell_type": "markdown",
   "metadata": {},
   "source": [
    "<br>"
   ]
  },
  {
   "cell_type": "markdown",
   "metadata": {},
   "source": [
    "\n",
    "## `Step 4: Data visualization/statistics`"
   ]
  },
  {
   "cell_type": "markdown",
   "metadata": {},
   "source": [
    "### Of all the people sampled, how many had affairs? How many men had affairs? How many women had affairs?"
   ]
  },
  {
   "cell_type": "markdown",
   "metadata": {},
   "source": [
    "Let's first see how many respondents had affairs"
   ]
  },
  {
   "cell_type": "code",
   "execution_count": 18,
   "metadata": {},
   "outputs": [
    {
     "name": "stdout",
     "output_type": "stream",
     "text": [
      "The total number of respondents that had affairs is: 150\n"
     ]
    }
   ],
   "source": [
    "# total number\n",
    "had_affair = had_affair_def(affairs)\n",
    "\n",
    "print(\"The total number of respondents that had affairs is:\", len(had_affair) - 1)"
   ]
  },
  {
   "cell_type": "markdown",
   "metadata": {},
   "source": [
    "How many men had affairs?"
   ]
  },
  {
   "cell_type": "code",
   "execution_count": 19,
   "metadata": {},
   "outputs": [
    {
     "name": "stdout",
     "output_type": "stream",
     "text": [
      "The total number of men that had affairs is: 77\n"
     ]
    }
   ],
   "source": [
    "had_affair_m = had_affair_m_def(had_affair)\n",
    "print(\"The total number of men that had affairs is:\", len(had_affair_m) - 1)"
   ]
  },
  {
   "cell_type": "markdown",
   "metadata": {},
   "source": [
    "How many women had affairs?"
   ]
  },
  {
   "cell_type": "code",
   "execution_count": 20,
   "metadata": {},
   "outputs": [
    {
     "name": "stdout",
     "output_type": "stream",
     "text": [
      "The total number of women that had affairs is: 71\n"
     ]
    }
   ],
   "source": [
    "had_affair_f = had_affair_f_def(had_affair)\n",
    "print(\"The total number of women that had affairs is:\", len(had_affair_f) - 1)"
   ]
  },
  {
   "cell_type": "markdown",
   "metadata": {},
   "source": [
    "Let's plot a graph for better data visualization"
   ]
  },
  {
   "cell_type": "code",
   "execution_count": 21,
   "metadata": {},
   "outputs": [
    {
     "data": {
      "image/png": "[encoded data removed]",
      "text/plain": [
       "<Figure size 432x288 with 1 Axes>"
      ]
     },
     "metadata": {},
     "output_type": "display_data"
    }
   ],
   "source": [
    "# data to plot on a pie chart\n",
    "labels = [\"no_affair\", \"affair_male\", \"affair_female\"]\n",
    "sizes = [len(affairs) - 1, len(had_affair_m) - 1, len(had_affair_f) - 1]\n",
    "\n",
    "# plot\n",
    "handle, texts, autotexts = plt.pie(sizes, autopct = '%1.1f%%', radius = 1.2)\n",
    "\n",
    "# title\n",
    "plt.title('Respondents that had affairs by sex', fontsize = 16)\n",
    "\n",
    "# legend\n",
    "plt.legend(handle, labels,\n",
    "           loc = \"center left\",\n",
    "           bbox_to_anchor=(1, 0, 0.5, 1), \n",
    "           handlelength = 1.5);"
   ]
  },
  {
   "cell_type": "markdown",
   "metadata": {},
   "source": [
    "### Plot the age distribution of people who had identified as having at least one affair by sex."
   ]
  },
  {
   "cell_type": "markdown",
   "metadata": {},
   "source": [
    "Get age distribution for male"
   ]
  },
  {
   "cell_type": "code",
   "execution_count": 22,
   "metadata": {},
   "outputs": [],
   "source": [
    "age_m = []\n",
    "for row in had_affair_m:\n",
    "    age_m.append(row[index_age])  "
   ]
  },
  {
   "cell_type": "markdown",
   "metadata": {},
   "source": [
    "Plot age distribution for male, with kernel density estimate"
   ]
  },
  {
   "cell_type": "code",
   "execution_count": 23,
   "metadata": {},
   "outputs": [
    {
     "data": {
      "image/png": "[encoded data removed]",
      "text/plain": [
       "<Figure size 432x288 with 1 Axes>"
      ]
     },
     "metadata": {},
     "output_type": "display_data"
    }
   ],
   "source": [
    "sns.set()\n",
    "sns.set_color_codes()\n",
    "sns.distplot(age_m, color = 'b')\n",
    "\n",
    "plt.title(\"Age distribution of men who had affairs\", fontsize = 16);"
   ]
  },
  {
   "cell_type": "markdown",
   "metadata": {},
   "source": [
    "Get age distribution for female"
   ]
  },
  {
   "cell_type": "code",
   "execution_count": 24,
   "metadata": {},
   "outputs": [],
   "source": [
    "age_f = []\n",
    "\n",
    "for row in had_affair_f:\n",
    "    age_f.append(row[index_age])  "
   ]
  },
  {
   "cell_type": "markdown",
   "metadata": {},
   "source": [
    "Plot age distribution for female, with kernel density estimate"
   ]
  },
  {
   "cell_type": "code",
   "execution_count": 25,
   "metadata": {},
   "outputs": [
    {
     "data": {
      "image/png": "[encoded data removed]",
      "text/plain": [
       "<Figure size 432x288 with 1 Axes>"
      ]
     },
     "metadata": {},
     "output_type": "display_data"
    }
   ],
   "source": [
    "sns.set()\n",
    "sns.set_color_codes()\n",
    "sns.distplot(age_f, color = 'b')\n",
    "\n",
    "plt.title(\"Age distribution of women who had affairs\", fontsize = 16);"
   ]
  },
  {
   "cell_type": "markdown",
   "metadata": {},
   "source": [
    "### Plot the yrs_married distribution of people who had identified as having at least one affair by sex."
   ]
  },
  {
   "cell_type": "markdown",
   "metadata": {},
   "source": [
    "Get yrs_married distribution for male"
   ]
  },
  {
   "cell_type": "code",
   "execution_count": 26,
   "metadata": {},
   "outputs": [],
   "source": [
    "yrs_married_m = []\n",
    "\n",
    "for row in had_affair_m:\n",
    "    yrs_married_m.append(row[index_yrs_married])"
   ]
  },
  {
   "cell_type": "markdown",
   "metadata": {},
   "source": [
    "Plot yrs_married distribution for male, with kernel density estimate"
   ]
  },
  {
   "cell_type": "code",
   "execution_count": 27,
   "metadata": {},
   "outputs": [
    {
     "data": {
      "image/png": "[encoded data removed]",
      "text/plain": [
       "<Figure size 432x288 with 1 Axes>"
      ]
     },
     "metadata": {},
     "output_type": "display_data"
    }
   ],
   "source": [
    "sns.set()\n",
    "sns.set_color_codes()\n",
    "sns.distplot(yrs_married_m, color = 'b')\n",
    "\n",
    "plt.title(\"Years married distribution of men who had affairs\", fontsize = 16);"
   ]
  },
  {
   "cell_type": "markdown",
   "metadata": {},
   "source": [
    "Get yrs_married distribution for female"
   ]
  },
  {
   "cell_type": "code",
   "execution_count": 28,
   "metadata": {},
   "outputs": [],
   "source": [
    "yrs_married_f = []\n",
    "\n",
    "for row in had_affair_f:\n",
    "    yrs_married_f.append(row[index_yrs_married])"
   ]
  },
  {
   "cell_type": "markdown",
   "metadata": {},
   "source": [
    "Plot yrs_married distribution for female, with kernel density estimate"
   ]
  },
  {
   "cell_type": "code",
   "execution_count": 29,
   "metadata": {},
   "outputs": [
    {
     "data": {
      "image/png": "[encoded data removed]",
      "text/plain": [
       "<Figure size 432x288 with 1 Axes>"
      ]
     },
     "metadata": {},
     "output_type": "display_data"
    }
   ],
   "source": [
    "sns.set()\n",
    "sns.set_color_codes()\n",
    "sns.distplot(yrs_married_f, color = 'b')\n",
    "\n",
    "plt.title(\"Years married distribution of women who had affairs\", fontsize = 16);"
   ]
  },
  {
   "cell_type": "markdown",
   "metadata": {},
   "source": [
    "### Of all the people that had affairs, how many fall into each education category?"
   ]
  },
  {
   "cell_type": "markdown",
   "metadata": {},
   "source": [
    "First let's count number of respondents for each education category"
   ]
  },
  {
   "cell_type": "code",
   "execution_count": 30,
   "metadata": {},
   "outputs": [],
   "source": [
    "count_grade_school = 0\n",
    "count_high_school = 0\n",
    "count_some_college = 0\n",
    "count_college_graduate = 0\n",
    "count_some_grad_school = 0\n",
    "count_advanced_degree = 0\n",
    "\n",
    "for row_index, row in enumerate(had_affair):\n",
    "    if row[index_educ] == 9:\n",
    "        count_grade_school += 1\n",
    "    if row[index_educ] == 12:\n",
    "        count_high_school += 1\n",
    "    if row[index_educ] == 14:\n",
    "        count_some_college += 1\n",
    "    if row[index_educ] == 16:  \n",
    "        count_college_graduate += 1\n",
    "    if row[index_educ] == 17:\n",
    "        count_some_grad_school += 1\n",
    "    if row[index_educ] == 20:\n",
    "        count_advanced_degree += 1"
   ]
  },
  {
   "cell_type": "markdown",
   "metadata": {},
   "source": [
    "Plot a pie chart to visualize the statistics"
   ]
  },
  {
   "cell_type": "code",
   "execution_count": 31,
   "metadata": {},
   "outputs": [
    {
     "data": {
      "image/png": "[encoded data removed]",
      "text/plain": [
       "<Figure size 432x288 with 1 Axes>"
      ]
     },
     "metadata": {},
     "output_type": "display_data"
    }
   ],
   "source": [
    "# data to plot on a pie chart\n",
    "labels = [\"9 = grade school\", \"12 = high-school\", \n",
    "          \"14 = some-college\", \"16 = college graduate\",\n",
    "          \"17 = some graduate school\", \"20 = advanced degree\"\n",
    "         ]\n",
    "\n",
    "sizes = [count_grade_school, count_high_school,\n",
    "         count_some_college, count_college_graduate,\n",
    "         count_some_grad_school, count_advanced_degree\n",
    "        ]\n",
    "\n",
    "# plot\n",
    "handle, texts, autotexts = plt.pie(sizes, autopct = '%1.1f%%', radius = 1.2)\n",
    "\n",
    "# title\n",
    "plt.title(\"Individuals that had affairs by education level\", fontsize = 16)\n",
    "\n",
    "# legend\n",
    "plt.legend(handle, labels,\n",
    "          loc = \"center left\",\n",
    "          bbox_to_anchor=(1, 0, 0.5, 1), \n",
    "          handlelength = 1.5);"
   ]
  },
  {
   "cell_type": "markdown",
   "metadata": {},
   "source": [
    "### Of all the people that had affairs, how many had children?"
   ]
  },
  {
   "cell_type": "markdown",
   "metadata": {},
   "source": [
    "We first want to know the number of respondents that had children"
   ]
  },
  {
   "cell_type": "code",
   "execution_count": 32,
   "metadata": {},
   "outputs": [],
   "source": [
    "count_had_children = 0\n",
    "for row in had_affair:\n",
    "    if row[index_children] == \"no\":\n",
    "        continue\n",
    "    else:\n",
    "        count_had_children += 1  "
   ]
  },
  {
   "cell_type": "markdown",
   "metadata": {},
   "source": [
    "We can now plot a pie chart"
   ]
  },
  {
   "cell_type": "code",
   "execution_count": 33,
   "metadata": {},
   "outputs": [
    {
     "data": {
      "image/png": "[encoded data removed]",
      "text/plain": [
       "<Figure size 432x288 with 1 Axes>"
      ]
     },
     "metadata": {},
     "output_type": "display_data"
    }
   ],
   "source": [
    "# data to plot on a pie chart\n",
    "labels = [\"had_children\", \"no_children\"]\n",
    "sizes = [count_had_children, len(had_affair) - count_had_children - 1]\n",
    "\n",
    "\n",
    "# plot\n",
    "handle, texts, autotexts = plt.pie(sizes, autopct = '%1.1f%%', radius = 1.2)\n",
    "\n",
    "# title\n",
    "plt.title('Respondents that had affairs by children status', fontsize = 16)\n",
    "\n",
    "# legend\n",
    "plt.legend(handle, labels,\n",
    "           loc = \"center left\",\n",
    "           bbox_to_anchor=(1, 0, 0.5, 1), \n",
    "           handlelength = 1.5);"
   ]
  },
  {
   "cell_type": "markdown",
   "metadata": {},
   "source": [
    "### For each religious rating, what was the average number of affairs?"
   ]
  },
  {
   "cell_type": "markdown",
   "metadata": {},
   "source": [
    "Create empty variables for (1) total number of affairs by religion, and (2) respondents count by religion"
   ]
  },
  {
   "cell_type": "code",
   "execution_count": 34,
   "metadata": {},
   "outputs": [],
   "source": [
    "total_affairs_not = 0\n",
    "count_not = 0\n",
    "\n",
    "total_affairs_mildly = 0\n",
    "count_mildly = 0\n",
    "\n",
    "total_affairs_fairly = 0\n",
    "count_fairly = 0\n",
    "\n",
    "total_affairs_strongly = 0\n",
    "count_strongly = 0\n",
    "\n",
    "# populate variables by reading the data\n",
    "for row in had_affair:\n",
    "    if row[index_religious] == 1:\n",
    "        total_affairs_not += row[index_nb_affairs]\n",
    "        count_not += 1\n",
    "        \n",
    "    if row[index_religious] == 2:\n",
    "        total_affairs_mildly += row[index_nb_affairs]\n",
    "        count_mildly += 1\n",
    "        \n",
    "    if row[index_religious] == 3: \n",
    "        total_affairs_fairly += row[index_nb_affairs]\n",
    "        count_fairly += 1\n",
    "        \n",
    "    if row[index_religious] == 4: \n",
    "        total_affairs_strongly += row[index_nb_affairs]\n",
    "        count_strongly += 1\n",
    "\n",
    "# compute the means\n",
    "mean_not = round(total_affairs_not/count_not)\n",
    "mean_mildly = round(total_affairs_mildly/count_mildly)\n",
    "mean_fairly = round(total_affairs_fairly/count_fairly)\n",
    "mean_strongly = round(total_affairs_strongly/count_strongly)"
   ]
  },
  {
   "cell_type": "markdown",
   "metadata": {},
   "source": [
    "Let's plot the statistics now using a bar plot"
   ]
  },
  {
   "cell_type": "code",
   "execution_count": 35,
   "metadata": {},
   "outputs": [
    {
     "data": {
      "image/png": "[encoded data removed]",
      "text/plain": [
       "<Figure size 432x288 with 1 Axes>"
      ]
     },
     "metadata": {},
     "output_type": "display_data"
    }
   ],
   "source": [
    "# data to plot on a bar\n",
    "religion = [\"not\", \"mildly\", \"fairly\", \"strongly\"]\n",
    "mean_affairs = [mean_not, mean_mildly, mean_fairly, mean_strongly]\n",
    "\n",
    "# plot\n",
    "plt.bar(religion, mean_affairs)\n",
    "\n",
    "# title\n",
    "plt.title('Average number of affairs by religion', fontsize = 16)\n",
    "\n",
    "# axes\n",
    "plt.xlabel(\"Religion\")\n",
    "plt.ylabel(\"Average no of affairs\");\n"
   ]
  },
  {
   "cell_type": "markdown",
   "metadata": {},
   "source": [
    "## `Step 5: Regression Analysis`"
   ]
  },
  {
   "cell_type": "markdown",
   "metadata": {},
   "source": [
    "### Predict the probability of having an affair using the tools available in Python for discrete choice models"
   ]
  },
  {
   "cell_type": "markdown",
   "metadata": {},
   "source": [
    "#### Fit a Logit model"
   ]
  },
  {
   "cell_type": "code",
   "execution_count": null,
   "metadata": {},
   "outputs": [],
   "source": []
  },
  {
   "cell_type": "markdown",
   "metadata": {},
   "source": [
    "#### Fit a Tobit model"
   ]
  },
  {
   "cell_type": "code",
   "execution_count": null,
   "metadata": {},
   "outputs": [],
   "source": []
  }
 ],
 "metadata": {
  "kernelspec": {
   "display_name": "Python 3",
   "language": "python",
   "name": "python3"
  },
  "language_info": {
   "codemirror_mode": {
    "name": "ipython",
    "version": 3
   },
   "file_extension": ".py",
   "mimetype": "text/x-python",
   "name": "python",
   "nbconvert_exporter": "python",
   "pygments_lexer": "ipython3",
   "version": "3.7.3"
  }
 },
 "nbformat": 4,
 "nbformat_minor": 2
}
