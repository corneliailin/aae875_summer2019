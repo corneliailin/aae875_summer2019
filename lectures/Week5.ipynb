{
 "cells": [
  {
   "cell_type": "markdown",
   "metadata": {
    "slideshow": {
     "slide_type": "slide"
    }
   },
   "source": [
    "# AAE 875 - Fundamentals of OOP and Data Analytics\n",
    "# Week 5 - Summer 2019\n",
    "\n",
    "<br>\n",
    "<br>\n",
    "<br>\n",
    "\n",
    "My goal today is to give you a tour of the key Python packages used for **data visualization, descriptive statistics and regression analysis**. I am going to assume that you have already read the corresponding chapters in zyBooks.\n",
    "\n",
    "The model we are going to run today will explore the cross-sectional infidelity data collected by the magazine Psychology Today in 1969. The economist Ray C. Fair used it the to develop \"A Theory of Extramarital Affairs\" (Fair, 1978).\n",
    "\n",
    "The data consists of 601 observations on 9 variables as follows. Please see the original paper for more details. Note that I slightly altered the original data for the purposes of this class:\n",
    "\n",
    "    Number of observations: 601\n",
    "    Number of variables: 9\n",
    "    Variable name definitions:\n",
    "\n",
    "\n",
    "        sex             : Respondent gender: male or female\n",
    "        age             : Respondent age\n",
    "        yrs_married     : Number of years married\n",
    "        children        : yes or no\n",
    "        religious       : How relgious, 1 = not, 2 = mildly, 3 = fairly,\n",
    "                        4 = strongly\n",
    "        educ            : Level of education, 9 = grade school, 12 = high\n",
    "                        school, 14 = some college, 16 = college graduate,\n",
    "                        17 = some graduate school, 20 = advanced degree\n",
    "        occupation      : 1 = student, 2 = farming, agriculture; semi-skilled,\n",
    "                        or unskilled worker; 3 = white-colloar; 4 = teacher\n",
    "                        counselor social worker, nurse; artist, writers;\n",
    "                        technician, skilled worker, 5 = managerial,\n",
    "                        administrative, business, 6 = professional with\n",
    "                        advanced degree\n",
    "       rate_marriage    : How rate marriage, 1 = very poor, 2 = poor, 3 = fair,\n",
    "                        4 = good, 5 = very good\n",
    "       nb_of_affairs    : number of extramarital affairs\n",
    "\n",
    "    \n",
    "    See the original paper for more details. \n",
    "\n",
    "<br>\n",
    "\n",
    "Let us first inspect/clean the data and then use the clean version to answer the following questions:\n",
    "\n",
    "**Data Visualization and Descriptive Statistics** <br>\n",
    "[1] Of all the people sampled, how many had affairs? How many women had affairs? How many men had affairs?\n",
    "\n",
    "[2] Plot the age distribution of people who had identified as having at least one affair by sex.\n",
    "\n",
    "[3] Plot the yrs_married distribution of people who had identified as having at least one affair by sex.\n",
    "\n",
    "[4] Of all the people that had affairs, how many fall into each education category?\n",
    "\n",
    "[5] Of all the people that had affairs, how many had children?\n",
    "\n",
    "[5] For each religious rating, what was the average number of affairs?\n",
    "\n",
    "[6] For each marriage satisfation rating, what was the average number of affairs?\n",
    "\n",
    "[7] For each occupation category, what was the average number of affairs?\n",
    "\n",
    "**Regression Analysis** <br>\n",
    "[1] Predict the probability of having an affair using the tools available in Python for discrete choice models (hint: statsmodels.formula.api). First fit a Logit model. Then fit a Tobit model. Can you conclude that the \"correct\" model is likely the Tobit model? Explain."
   ]
  },
  {
   "cell_type": "markdown",
   "metadata": {},
   "source": [
    "## `Data cleaning`"
   ]
  },
  {
   "cell_type": "markdown",
   "metadata": {},
   "source": [
    "### Import packages \n",
    "Good practice is to import all packages/modules at the top of your script."
   ]
  },
  {
   "cell_type": "code",
   "execution_count": 4,
   "metadata": {},
   "outputs": [],
   "source": [
    "import csv\n",
    "import seaborn as sns\n",
    "import matplotlib.pyplot as plt"
   ]
  },
  {
   "cell_type": "markdown",
   "metadata": {},
   "source": [
    "### Load data\n",
    "I decided to work with nested lists. The built-in csv package works just fine for this task. I encourage you to do the same if you want to develop your coding skillls. You can also use a third-party library such as Pandas (Q: what is the type of dataframe you will be working with in this case?)."
   ]
  },
  {
   "cell_type": "code",
   "execution_count": 5,
   "metadata": {},
   "outputs": [],
   "source": [
    "# open the file\n",
    "csvfile = open(\"affairs.csv\", \"r\", newline = \"\")\n",
    "# read the file\n",
    "affairs = list(csv.reader(csvfile, delimiter = \",\"))"
   ]
  },
  {
   "cell_type": "markdown",
   "metadata": {},
   "source": [
    "### Print columns names and the first 5 rows of data\n",
    "Do not attempt to run a regression model before insepecting/cleaning your data. Data is messy most of the time! Fix issues (e.g. missing values) before you think about an econometric model. <br>\n",
    "\n",
    "Hint: use print() statements from place to place to explain what you are doing or what is the output of specific blocks of code."
   ]
  },
  {
   "cell_type": "code",
   "execution_count": 6,
   "metadata": {
    "scrolled": true
   },
   "outputs": [
    {
     "name": "stdout",
     "output_type": "stream",
     "text": [
      "The column names are:\n",
      " ['x', 'sex', 'age', 'yrs_married', 'children', 'religious', 'education', 'occupation', 'rate_marriage', 'nb_of_affairs'] \n",
      "\n",
      "The first 5 rows of data are:\n",
      "[ na na 37 10 no 3 na 7 4 0 ]\n",
      "[ 2 female 27 4 no 4 14 6 4 0 ]\n",
      "[ 3 female 32 15 yes 1 12 1 4 0 ]\n",
      "[ na na 57 15 na 5 na 6 na na ]\n",
      "[ 5 male 22 0.75 no 2 17 6 3 0 ]\n"
     ]
    }
   ],
   "source": [
    "# print the column names\n",
    "print(\"The column names are:\\n\", affairs[0], \"\\n\")\n",
    "\n",
    "# print the first 5 rows of data\n",
    "print(\"The first 5 rows of data are:\")\n",
    "for row in affairs[1:5+1]:\n",
    "    print(\"[\", end = \" \")\n",
    "    for cell in row:\n",
    "        print(cell, end = \" \")\n",
    "    print(\"]\")    "
   ]
  },
  {
   "cell_type": "markdown",
   "metadata": {},
   "source": [
    "### Print the number of rows and the number of columns\n",
    "The \"quality\" of your regression estimates depend on the answer to this question."
   ]
  },
  {
   "cell_type": "code",
   "execution_count": 7,
   "metadata": {},
   "outputs": [
    {
     "name": "stdout",
     "output_type": "stream",
     "text": [
      "The affairs data has 602 rows and 10 columns.\n"
     ]
    }
   ],
   "source": [
    "print(\"The affairs data has\", len(affairs), \"rows and\", len(affairs[0]),\"columns.\")"
   ]
  },
  {
   "cell_type": "markdown",
   "metadata": {},
   "source": [
    "### Print the data type of each column\n",
    "Hint: do not run a regression model if you don't understand what data type each column represents... why? it really matters for results interpretation."
   ]
  },
  {
   "cell_type": "code",
   "execution_count": 8,
   "metadata": {},
   "outputs": [
    {
     "name": "stdout",
     "output_type": "stream",
     "text": [
      "<class 'str'>\n",
      "<class 'str'>\n",
      "<class 'str'>\n",
      "<class 'str'>\n",
      "<class 'str'>\n",
      "<class 'str'>\n",
      "<class 'str'>\n",
      "<class 'str'>\n",
      "<class 'str'>\n",
      "<class 'str'>\n",
      "Important: the csv.reader() method returns a list of strings!\n"
     ]
    }
   ],
   "source": [
    "iter = 1 #skips the column names\n",
    "for row_index, row in enumerate(affairs):\n",
    "    if row_index == 1:\n",
    "        for cell in row:\n",
    "            print(type(cell))\n",
    "print(\"Important: the csv.reader() method returns a list of strings!\")                  "
   ]
  },
  {
   "cell_type": "markdown",
   "metadata": {},
   "source": [
    "### Rename the x variable to resp_id\n",
    "Variable names should be easy to understand. One week from now you won't remember what this \"x\" stands for."
   ]
  },
  {
   "cell_type": "code",
   "execution_count": 9,
   "metadata": {
    "scrolled": true
   },
   "outputs": [
    {
     "name": "stdout",
     "output_type": "stream",
     "text": [
      "The variable \"x\" has been renamed to resp_id."
     ]
    }
   ],
   "source": [
    "try:\n",
    "    index_of_x = affairs[0].index(\"x\")\n",
    "    affairs[0][index_of_x] = \"resp_id\"\n",
    "    print(\"The variable \\\"x\\\" has been renamed to\", affairs[0][index_of_x], end = \".\")\n",
    "except ValueError:\n",
    "    print(\"Variable \\\"x\\\" has already been renamed to resp_id.\")   "
   ]
  },
  {
   "cell_type": "markdown",
   "metadata": {},
   "source": [
    "### Are there any missing values (na's) in the data?\n",
    "in this data missing values are marked with \"na\" but missing values can take different forms as well (e.g. blank cell, period (.), Null etc)."
   ]
  },
  {
   "cell_type": "code",
   "execution_count": 10,
   "metadata": {},
   "outputs": [
    {
     "name": "stdout",
     "output_type": "stream",
     "text": [
      "Missing value in cell.\n"
     ]
    }
   ],
   "source": [
    "try:\n",
    "    for row_index, row in enumerate(affairs):\n",
    "        if row_index == 0: #skip row with column names\n",
    "            continue\n",
    "        for cell in row:\n",
    "            if cell == \"na\":\n",
    "                raise ValueError(\"Missing value in cell.\")\n",
    "except ValueError as excpt:\n",
    "    print(excpt)"
   ]
  },
  {
   "cell_type": "markdown",
   "metadata": {},
   "source": [
    "### Print rows with missing values (na's)\n",
    "This step helps you inspect what is actually missing from each row. How critical is the missing information?"
   ]
  },
  {
   "cell_type": "code",
   "execution_count": 11,
   "metadata": {},
   "outputs": [
    {
     "name": "stdout",
     "output_type": "stream",
     "text": [
      "Printing rows with missing values:\n",
      "['na', 'na', '37', '10', 'no', '3', 'na', '7', '4', '0']\n",
      "['na', 'na', '57', '15', 'na', '5', 'na', '6', 'na', 'na']\n",
      "\n",
      "Row indexes with missing values are:\n",
      " [1, 4]\n"
     ]
    }
   ],
   "source": [
    "row_index_tbr = []  #tbr stands for to be removed\n",
    "print(\"Printing rows with missing values:\")\n",
    "for row_index, row in enumerate(affairs):\n",
    "    if row_index == 0: #skip row with column names\n",
    "        continue\n",
    "    for cell_index, cell in enumerate(row):\n",
    "        if cell == \"na\":\n",
    "            print(row)\n",
    "            row_index_tbr.append(row_index)\n",
    "            break   \n",
    "            \n",
    "print(\"\\nRow indexes with missing values are:\\n\", row_index_tbr)"
   ]
  },
  {
   "cell_type": "markdown",
   "metadata": {},
   "source": [
    "### Remove rows with missing values (na's)\n",
    "You decide what you do with missing values. If you have lots of data removing a couple of rows won't be an issue; otherwise you need to think twice what to do with missing values (e.g. use an imputation method).\n",
    "\n",
    "For this data I decided to drop the two observations with na's."
   ]
  },
  {
   "cell_type": "code",
   "execution_count": 12,
   "metadata": {},
   "outputs": [
    {
     "name": "stdout",
     "output_type": "stream",
     "text": [
      "1 row(s) less\n",
      "2 row(s) less\n",
      "\n",
      "The first 5 rows of data are:\n",
      "['2', 'female', '27', '4', 'no', '4', '14', '6', '4', '0']\n",
      "['3', 'female', '32', '15', 'yes', '1', '12', '1', '4', '0']\n",
      "['5', 'male', '22', '0.75', 'no', '2', '17', '6', '3', '0']\n",
      "['6', 'female', '32', '1.5', 'no', '2', '17', '5', '5', '0']\n",
      "['7', 'female', '22', '0.75', 'no', '2', '12', '1', '3', '0']\n"
     ]
    }
   ],
   "source": [
    "temp_affairs = [] # empty list. I will create a new nested list equal with affairs but rows to be removed\n",
    "n = 1\n",
    "\n",
    "for row_index, row in enumerate(affairs):\n",
    "    if row_index in row_index_tbr: #skip rows to be removed (tbr)\n",
    "        print(n,\"row(s) less\")\n",
    "        n += 1 # count number of rows skipped\n",
    "        continue\n",
    "    temp_affairs.append(row)\n",
    "    \n",
    "# just to check everything looks OK print the first 5 rows of data \n",
    "# hint we already know that rows 1 an 4 had missing values\n",
    "print(\"\\nThe first 5 rows of data are:\")\n",
    "for row in range(1,6):\n",
    "    print(temp_affairs[row])   "
   ]
  },
  {
   "cell_type": "markdown",
   "metadata": {},
   "source": [
    "### Keep only one reader (data) object\n",
    "Given that the loop above works as desired we can now overwrite the affairs data."
   ]
  },
  {
   "cell_type": "code",
   "execution_count": 13,
   "metadata": {},
   "outputs": [],
   "source": [
    "affairs = temp_affairs\n",
    "del temp_affairs"
   ]
  },
  {
   "cell_type": "markdown",
   "metadata": {},
   "source": [
    "### What is the number of rows and columns now?\n",
    "\n",
    "Final check that data cleaning worked as desired."
   ]
  },
  {
   "cell_type": "code",
   "execution_count": 14,
   "metadata": {},
   "outputs": [
    {
     "name": "stdout",
     "output_type": "stream",
     "text": [
      "The affairs data has 600 rows and 10 columns.\n"
     ]
    }
   ],
   "source": [
    "print(\"The affairs data has\", len(affairs), \"rows and\", len(affairs[0]),\"columns.\")"
   ]
  },
  {
   "cell_type": "markdown",
   "metadata": {},
   "source": [
    "### Change column data types\n",
    "As you can immagine doing data visuzalization, descriptive statistics and regression analysis with string only data types is not really a good idea. Let's change the types of our columns as follows:\n",
    "* type([resp_id, age, yrs_married, religious, education, occupation, rate_marriage, nb_of_affairs]) = int\n",
    "* type([sex, children]) = string (Note: nothing to change here; right now all the elements in affairs are strings)\n"
   ]
  },
  {
   "cell_type": "code",
   "execution_count": 15,
   "metadata": {},
   "outputs": [
    {
     "name": "stdout",
     "output_type": "stream",
     "text": [
      "Index of variable \"sex\" in column names is 1.\n",
      "Index of variable \"children\" in column names is 4.\n",
      "<class 'float'>\n",
      "<class 'str'>\n",
      "<class 'float'>\n",
      "<class 'float'>\n",
      "<class 'str'>\n",
      "<class 'float'>\n",
      "<class 'float'>\n",
      "<class 'float'>\n",
      "<class 'float'>\n",
      "<class 'float'>\n"
     ]
    }
   ],
   "source": [
    "# let's firt find the indexes of the columns that are strings\n",
    "string_col_index = [affairs[0].index(\"sex\"), affairs[0].index(\"children\")]\n",
    "print(\"Index of variable \\\"sex\\\" in column names is\", string_col_index[0], end = \".\\n\")\n",
    "print(\"Index of variable \\\"children\\\" in column names is\", string_col_index[1], end = \".\\n\")\n",
    "\n",
    "\n",
    "# change the type of all other columns to float\n",
    "for row_index, row in enumerate(affairs):\n",
    "    #print(row_index)\n",
    "    if row_index == 0:\n",
    "        continue\n",
    "    if row_index == 38: # for some reason this line of code cannot be trnsformed to integer\n",
    "        continue\n",
    "    for cell_index, cell in enumerate(row):\n",
    "        if cell_index in string_col_index:\n",
    "            continue\n",
    "        else:\n",
    "            affairs[row_index][cell_index] = float(cell)\n",
    "            \n",
    "# check that execution worked as planed (print types of the first row of data)\n",
    "for row_index, row in enumerate(affairs):\n",
    "    if row_index == 1:\n",
    "        for cell in row:\n",
    "            print(type(cell))"
   ]
  },
  {
   "cell_type": "markdown",
   "metadata": {},
   "source": [
    "### Print the number of rows and columns in the data - yes, again\n",
    "Note: I eliminated one more observation. For some reason the data type transformation got stuck at line 38? can you figure out why? "
   ]
  },
  {
   "cell_type": "code",
   "execution_count": 16,
   "metadata": {},
   "outputs": [
    {
     "name": "stdout",
     "output_type": "stream",
     "text": [
      "The affairs data has 600 rows and 10 columns.\n"
     ]
    }
   ],
   "source": [
    "print(\"The affairs data has\", len(affairs), \"rows and\", len(affairs[0]),\"columns.\")"
   ]
  },
  {
   "cell_type": "markdown",
   "metadata": {},
   "source": [
    "<br>"
   ]
  },
  {
   "cell_type": "markdown",
   "metadata": {},
   "source": [
    "\n",
    "## `Data visualization/statistics`"
   ]
  },
  {
   "cell_type": "markdown",
   "metadata": {},
   "source": [
    "### Of all the people sampled, how many had affairs? How many women had affairs? How many men had affairs?"
   ]
  },
  {
   "cell_type": "code",
   "execution_count": 37,
   "metadata": {},
   "outputs": [
    {
     "name": "stdout",
     "output_type": "stream",
     "text": [
      "Here are some statistics:\n",
      "\n",
      "The total number of respondents that had affairs is: 151\n",
      "The total number of women that had affairs is: 72\n",
      "The total number of men that had affairs is: 78\n"
     ]
    },
    {
     "data": {
      "text/plain": [
       "Text(0, 0.5, 'Number of affairs')"
      ]
     },
     "execution_count": 37,
     "metadata": {},
     "output_type": "execute_result"
    },
    {
     "data": {
      "image/png": "[encoded data removed]",
      "text/plain": [
       "<Figure size 432x288 with 1 Axes>"
      ]
     },
     "metadata": {
      "needs_background": "light"
     },
     "output_type": "display_data"
    }
   ],
   "source": [
    "# create list only with individuals that had affairs\n",
    "had_affair = []  #total\n",
    "had_affair_f = [] #female only\n",
    "had_affair_m = [] #male only\n",
    "\n",
    "for row_index, row in enumerate(affairs):\n",
    "    for cell_index, cell in enumerate(row):\n",
    "        \n",
    "        if cell_index == affairs[0].index(\"sex\"):\n",
    "            temp_sex = cell\n",
    "            \n",
    "        if cell_index == affairs[0].index(\"nb_of_affairs\"):\n",
    "            if cell == 0.0 or cell == '0':\n",
    "                continue\n",
    "            else:\n",
    "                had_affair.append(cell) # add to total\n",
    "                if temp_sex == \"female\":# add to female\n",
    "                    had_affair_f.append(cell)\n",
    "                if temp_sex == \"male\": #add to male\n",
    "                    had_affair_m.append(cell)\n",
    "\n",
    "                    \n",
    "# print statistics\n",
    "print(\"Here are some statistics:\\n\")\n",
    "print(\"The total number of respondents that had affairs is:\", len(had_affair))\n",
    "print(\"The total number of women that had affairs is:\", len(had_affair_f))\n",
    "print(\"The total number of men that had affairs is:\", len(had_affair_m))\n",
    "\n",
    "# values to be ploted\n",
    "sex = [\"total\", \"female\", \"male\"]\n",
    "value = [len(had_affair), len(had_affair_f), len(had_affair_m)]\n",
    "\n",
    "# set plot title\n",
    "plt.title('Respondents that had affairs by sex', fontsize = 18)\n",
    "\n",
    "# add the x-axis and the y-axis to the plot\n",
    "plt.bar(sex, value, color=\"green\")\n",
    "\n",
    "# add labels to the axes\n",
    "plt.xlabel(\"Sex\")\n",
    "plt.ylabel(\"Number of affairs\")\n"
   ]
  },
  {
   "cell_type": "markdown",
   "metadata": {},
   "source": [
    "### Plot the age distribution of people who had identified as having at least one affair by sex."
   ]
  },
  {
   "cell_type": "code",
   "execution_count": null,
   "metadata": {},
   "outputs": [],
   "source": []
  },
  {
   "cell_type": "markdown",
   "metadata": {},
   "source": [
    "### Plot the yrs_married distribution of people who had identified as having at least one affair by sex."
   ]
  },
  {
   "cell_type": "code",
   "execution_count": null,
   "metadata": {},
   "outputs": [],
   "source": []
  },
  {
   "cell_type": "markdown",
   "metadata": {},
   "source": [
    "### Of all the people that had affairs, how many fall into each education category?"
   ]
  },
  {
   "cell_type": "code",
   "execution_count": null,
   "metadata": {},
   "outputs": [],
   "source": []
  },
  {
   "cell_type": "markdown",
   "metadata": {},
   "source": [
    "### Of all the people that had affairs, how many had children?"
   ]
  },
  {
   "cell_type": "code",
   "execution_count": null,
   "metadata": {},
   "outputs": [],
   "source": []
  },
  {
   "cell_type": "markdown",
   "metadata": {},
   "source": [
    "### For each religious rating, what was the average number of affairs?"
   ]
  },
  {
   "cell_type": "code",
   "execution_count": null,
   "metadata": {},
   "outputs": [],
   "source": []
  },
  {
   "cell_type": "markdown",
   "metadata": {},
   "source": [
    "### For each marriage satisfation rating, what was the average number of affairs?"
   ]
  },
  {
   "cell_type": "code",
   "execution_count": null,
   "metadata": {},
   "outputs": [],
   "source": []
  },
  {
   "cell_type": "markdown",
   "metadata": {},
   "source": [
    "### For each occupation category, what was the average number of affairs?"
   ]
  },
  {
   "cell_type": "code",
   "execution_count": null,
   "metadata": {},
   "outputs": [],
   "source": []
  },
  {
   "cell_type": "markdown",
   "metadata": {},
   "source": [
    "### Predict the probability of having an affair using the tools available in Python for discrete choice models"
   ]
  },
  {
   "cell_type": "markdown",
   "metadata": {},
   "source": [
    "#### Fit a Logit model"
   ]
  },
  {
   "cell_type": "code",
   "execution_count": null,
   "metadata": {},
   "outputs": [],
   "source": []
  },
  {
   "cell_type": "markdown",
   "metadata": {},
   "source": [
    "#### Fit a Tobit model"
   ]
  },
  {
   "cell_type": "code",
   "execution_count": null,
   "metadata": {},
   "outputs": [],
   "source": []
  },
  {
   "cell_type": "markdown",
   "metadata": {},
   "source": [
    "#### Can you conclude that the \"correct\" model is likely the Tobit model? Explain."
   ]
  },
  {
   "cell_type": "code",
   "execution_count": null,
   "metadata": {},
   "outputs": [],
   "source": []
  }
 ],
 "metadata": {
  "kernelspec": {
   "display_name": "Python 3",
   "language": "python",
   "name": "python3"
  },
  "language_info": {
   "codemirror_mode": {
    "name": "ipython",
    "version": 3
   },
   "file_extension": ".py",
   "mimetype": "text/x-python",
   "name": "python",
   "nbconvert_exporter": "python",
   "pygments_lexer": "ipython3",
   "version": "3.7.3"
  }
 },
 "nbformat": 4,
 "nbformat_minor": 2
}
